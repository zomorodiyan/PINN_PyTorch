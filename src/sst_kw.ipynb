{
 "cells": [
  {
   "cell_type": "code",
   "execution_count": 66,
   "id": "f9689d2e",
   "metadata": {},
   "outputs": [],
   "source": [
    "def k_convection(u, u_x, v, v_y, k, k_x, k_y, k_xx, k_yy, rho):\n",
    "    a_star_inf = 1\n",
    "    return rho*(k*(u_x + v_y) + u*k_x + v*k_y)\n",
    "\n",
    "def k_diffusion(x,y,u,u_x,u_y,v,v_x,v_y,k,k_x,k_y,k_xx,k_yy,w,w_x,w_y,rho,mu):\n",
    "    a1 = 1 # wrong  \n",
    "    a_star = 1 # wrong\n",
    "    sigma_k = 1 # wrong\n",
    "\n",
    "    a_star_adj = 1/np.max([1/a_star, strain_modules(u, v, u_x, v_x, u_y, v_y)*F2(x,y,k,w,mu,rho)/a1/w])\n",
    "    return a_star_adj*rho/sigma_k*(k_x*(k_x/w-k*w_x/w**2) + k_y*(k_y/w-k*w_y/w**2) )+ (k_xx+ k_yy)*(mu + a_star_adj*rho/sigma_k*k/w)\n",
    "\n",
    "def strain_modules(u, v, u_x, u_y, v_x, v_y):\n",
    "    # Calculate S_ij components\n",
    "    S_ij = np.zeros((2, 2))\n",
    "    S_ij[0, 0] = 0.5 * (u_x + u_x)\n",
    "    S_ij[0, 1] = 0.5 * (u_y + v_x)\n",
    "    S_ij[1, 0] = 0.5 * (v_x + u_y)\n",
    "    S_ij[1, 1] = 0.5 * (v_y + v_y)\n",
    "    # Calculate the E modulus S\n",
    "    S = np.sqrt(2 * np.sum(S_ij**2))\n",
    "    return S\n",
    "\n",
    "def y_sst(x,y):\n",
    "    y1 = np.sqrt(x**2+y**2)-40\n",
    "    y2 = x+200\n",
    "    y3 = 600-x\n",
    "    y4 = y+200\n",
    "    y5 = 200-y\n",
    "    return np.min([y1, y2, y3, y4, y5])\n",
    "\n",
    "def F2(x,y,k,w,mu,rho):\n",
    "    phi2 = np.max([2*np.sqrt(k)/0.09/w/y_sst(x,y), 500*mu/rho/y_sst(x,y)**2/w])\n",
    "    F2 = np.tanh(phi2**2)\n",
    "    return F2\n",
    "\n",
    "def G_k(mu, S):\n",
    "    mu + S**2\n",
    "    \n",
    "def k_generation(u,v,u_x,u_y,v_x,v_y,k,w,mu,rho,beta_star):\n",
    "    generation = np.min([G_k(mu,strain_modules(u,v,u_x,u_y,v_x,v_y)), 10*rho*beta_star*k*w])\n",
    "    return generation"
   ]
  },
  {
   "cell_type": "code",
   "execution_count": 68,
   "id": "68da2d77",
   "metadata": {},
   "outputs": [
    {
     "name": "stdout",
     "output_type": "stream",
     "text": [
      "k-transport equation\n",
      "1st term\n",
      "2nd term\n"
     ]
    },
    {
     "ename": "NameError",
     "evalue": "name 'beta_star' is not defined",
     "output_type": "error",
     "traceback": [
      "\u001b[0;31m---------------------------------------------------------------------------\u001b[0m",
      "\u001b[0;31mNameError\u001b[0m                                 Traceback (most recent call last)",
      "Input \u001b[0;32mIn [68]\u001b[0m, in \u001b[0;36m<cell line: 16>\u001b[0;34m()\u001b[0m\n\u001b[1;32m     14\u001b[0m     term5 \u001b[38;5;241m=\u001b[39m k_dissipation()\n\u001b[1;32m     15\u001b[0m     \u001b[38;5;28;01mreturn\u001b[39;00m term1 \u001b[38;5;241m+\u001b[39m term2 \u001b[38;5;241m-\u001b[39m term3 \u001b[38;5;241m-\u001b[39mterm4 \u001b[38;5;241m+\u001b[39m term5\n\u001b[0;32m---> 16\u001b[0m \u001b[43mk_transport\u001b[49m\u001b[43m(\u001b[49m\u001b[38;5;241;43m*\u001b[39;49m\u001b[43m[\u001b[49m\u001b[38;5;241;43m1\u001b[39;49m\u001b[43m \u001b[49m\u001b[38;5;28;43;01mfor\u001b[39;49;00m\u001b[43m \u001b[49m\u001b[43mi\u001b[49m\u001b[43m \u001b[49m\u001b[38;5;129;43;01min\u001b[39;49;00m\u001b[43m \u001b[49m\u001b[38;5;28;43mrange\u001b[39;49m\u001b[43m(\u001b[49m\u001b[38;5;241;43m17\u001b[39;49m\u001b[43m)\u001b[49m\u001b[43m]\u001b[49m\u001b[43m)\u001b[49m\n",
      "Input \u001b[0;32mIn [68]\u001b[0m, in \u001b[0;36mk_transport\u001b[0;34m(x, y, u, u_x, u_y, v, v_x, v_y, k, k_t, k_x, k_y, k_xx, k_yy, w, w_x, w_y)\u001b[0m\n\u001b[1;32m     11\u001b[0m term2 \u001b[38;5;241m=\u001b[39m k_convection(u,u_x,v,v_y,k,k_x,k_y,k_xx,k_yy,rho)\n\u001b[1;32m     12\u001b[0m term3 \u001b[38;5;241m=\u001b[39m k_diffusion(x,y,u,u_x,u_y,v,v_x,v_y,k,k_x,k_y,k_xx,k_yy,w,w_x,w_y,rho,mu)\n\u001b[0;32m---> 13\u001b[0m term4 \u001b[38;5;241m=\u001b[39m k_generation(u,v,u_x,u_y,v_x,v_y,k,w,mu,rho,\u001b[43mbeta_star\u001b[49m)\n\u001b[1;32m     14\u001b[0m term5 \u001b[38;5;241m=\u001b[39m k_dissipation()\n\u001b[1;32m     15\u001b[0m \u001b[38;5;28;01mreturn\u001b[39;00m term1 \u001b[38;5;241m+\u001b[39m term2 \u001b[38;5;241m-\u001b[39m term3 \u001b[38;5;241m-\u001b[39mterm4 \u001b[38;5;241m+\u001b[39m term5\n",
      "\u001b[0;31mNameError\u001b[0m: name 'beta_star' is not defined"
     ]
    }
   ],
   "source": [
    "import numpy as np\n",
    "def k_transport(x,y,u, u_x, u_y, v, v_x, v_y, k, k_t, k_x, k_y, k_xx, k_yy, w, w_x, w_y):\n",
    "    print('k-transport equation')\n",
    "    # Material properties\n",
    "    rho = 1 # wrong\n",
    "    mu = 1 # wrong if you have nu, mu = rho*nu\n",
    "    beta_s\n",
    "    # Model constants\n",
    "    print('1st term')\n",
    "    term1 = rho*k_t\n",
    "    print('2nd term')\n",
    "    term2 = k_convection(u,u_x,v,v_y,k,k_x,k_y,k_xx,k_yy,rho)\n",
    "    term3 = k_diffusion(x,y,u,u_x,u_y,v,v_x,v_y,k,k_x,k_y,k_xx,k_yy,w,w_x,w_y,rho,mu)\n",
    "    term4 = k_generation(u,v,u_x,u_y,v_x,v_y,k,w,mu,rho,beta_star)\n",
    "    term5 = k_dissipation()\n",
    "    return term1 + term2 - term3 -term4 + term5\n",
    "k_transport(*[1 for i in range(17)])"
   ]
  },
  {
   "cell_type": "code",
   "execution_count": null,
   "id": "97162538",
   "metadata": {},
   "outputs": [],
   "source": []
  },
  {
   "cell_type": "code",
   "execution_count": null,
   "id": "f68aa9b7",
   "metadata": {},
   "outputs": [],
   "source": []
  }
 ],
 "metadata": {
  "kernelspec": {
   "display_name": "Python 3 (ipykernel)",
   "language": "python",
   "name": "python3"
  },
  "language_info": {
   "codemirror_mode": {
    "name": "ipython",
    "version": 3
   },
   "file_extension": ".py",
   "mimetype": "text/x-python",
   "name": "python",
   "nbconvert_exporter": "python",
   "pygments_lexer": "ipython3",
   "version": "3.8.13"
  }
 },
 "nbformat": 4,
 "nbformat_minor": 5
}
